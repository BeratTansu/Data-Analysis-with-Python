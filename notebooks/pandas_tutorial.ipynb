{
 "cells": [
  {
   "cell_type": "markdown",
   "metadata": {},
   "source": [
    "# Pandas Tutorial\n",
    "## Introduction to Pandas DataFrames and Data Analysis\n",
    "Following MOOC.fi Data Analysis with Python course"
   ]
  },
  {
   "cell_type": "markdown",
   "metadata": {},
   "source": [
    "## 1. Importing Pandas"
   ]
  },
  {
   "cell_type": "code",
   "execution_count": null,
   "metadata": {},
   "outputs": [],
   "source": [
    "import pandas as pd\n",
    "import numpy as np\n",
    "print(f\"Pandas version: {pd.__version__}\")"
   ]
  },
  {
   "cell_type": "markdown",
   "metadata": {},
   "source": [
    "## 2. Creating Series"
   ]
  },
  {
   "cell_type": "code",
   "execution_count": null,
   "metadata": {},
   "outputs": [],
   "source": [
    "# Create a Series from a list\n",
    "s = pd.Series([10, 20, 30, 40, 50])\n",
    "print(\"Series:\")\n",
    "print(s)\n",
    "\n",
    "# Series with custom index\n",
    "s_custom = pd.Series([10, 20, 30, 40, 50], index=['a', 'b', 'c', 'd', 'e'])\n",
    "print(\"\\nSeries with custom index:\")\n",
    "print(s_custom)"
   ]
  },
  {
   "cell_type": "markdown",
   "metadata": {},
   "source": [
    "## 3. Creating DataFrames"
   ]
  },
  {
   "cell_type": "code",
   "execution_count": null,
   "metadata": {},
   "outputs": [],
   "source": [
    "# Create DataFrame from dictionary\n",
    "data = {\n",
    "    'Name': ['Alice', 'Bob', 'Charlie', 'David'],\n",
    "    'Age': [25, 30, 35, 40],\n",
    "    'City': ['New York', 'Paris', 'London', 'Tokyo'],\n",
    "    'Salary': [50000, 60000, 70000, 80000]\n",
    "}\n",
    "df = pd.DataFrame(data)\n",
    "print(\"DataFrame:\")\n",
    "print(df)"
   ]
  },
  {
   "cell_type": "markdown",
   "metadata": {},
   "source": [
    "## 4. DataFrame Information"
   ]
  },
  {
   "cell_type": "code",
   "execution_count": null,
   "metadata": {},
   "outputs": [],
   "source": [
    "print(\"Shape:\", df.shape)\n",
    "print(\"\\nColumns:\", df.columns.tolist())\n",
    "print(\"\\nData types:\")\n",
    "print(df.dtypes)\n",
    "print(\"\\nFirst 3 rows:\")\n",
    "print(df.head(3))\n",
    "print(\"\\nLast 2 rows:\")\n",
    "print(df.tail(2))\n",
    "print(\"\\nInfo:\")\n",
    "df.info()"
   ]
  },
  {
   "cell_type": "markdown",
   "metadata": {},
   "source": [
    "## 5. Selecting Data"
   ]
  },
  {
   "cell_type": "code",
   "execution_count": null,
   "metadata": {},
   "outputs": [],
   "source": [
    "# Select a single column\n",
    "print(\"Age column:\")\n",
    "print(df['Age'])\n",
    "\n",
    "# Select multiple columns\n",
    "print(\"\\nName and City columns:\")\n",
    "print(df[['Name', 'City']])\n",
    "\n",
    "# Select rows by index\n",
    "print(\"\\nFirst row:\")\n",
    "print(df.iloc[0])\n",
    "\n",
    "# Select rows by condition\n",
    "print(\"\\nRows where Age > 30:\")\n",
    "print(df[df['Age'] > 30])"
   ]
  },
  {
   "cell_type": "markdown",
   "metadata": {},
   "source": [
    "## 6. Reading CSV Files"
   ]
  },
  {
   "cell_type": "code",
   "execution_count": null,
   "metadata": {},
   "outputs": [],
   "source": [
    "# Read the sales data CSV\n",
    "sales_df = pd.read_csv('../datasets/sales_data.csv')\n",
    "print(\"Sales Data:\")\n",
    "print(sales_df.head())\n",
    "print(\"\\nDataFrame Info:\")\n",
    "sales_df.info()"
   ]
  },
  {
   "cell_type": "markdown",
   "metadata": {},
   "source": [
    "## 7. Data Analysis Operations"
   ]
  },
  {
   "cell_type": "code",
   "execution_count": null,
   "metadata": {},
   "outputs": [],
   "source": [
    "# Statistical summary\n",
    "print(\"Statistical Summary:\")\n",
    "print(sales_df.describe())\n",
    "\n",
    "# Group by operations\n",
    "print(\"\\nTotal Sales by Category:\")\n",
    "print(sales_df.groupby('Category')['Sales'].sum())\n",
    "\n",
    "# Average sales by region\n",
    "print(\"\\nAverage Sales by Region:\")\n",
    "print(sales_df.groupby('Region')['Sales'].mean())"
   ]
  },
  {
   "cell_type": "markdown",
   "metadata": {},
   "source": [
    "## 8. Sorting and Ranking"
   ]
  },
  {
   "cell_type": "code",
   "execution_count": null,
   "metadata": {},
   "outputs": [],
   "source": [
    "# Sort by sales in descending order\n",
    "print(\"Top 5 Sales:\")\n",
    "print(sales_df.sort_values('Sales', ascending=False).head())\n",
    "\n",
    "# Add a rank column\n",
    "sales_df_ranked = sales_df.copy()\n",
    "sales_df_ranked['Rank'] = sales_df_ranked['Sales'].rank(ascending=False)\n",
    "print(\"\\nData with Rankings:\")\n",
    "print(sales_df_ranked.sort_values('Rank').head())"
   ]
  },
  {
   "cell_type": "markdown",
   "metadata": {},
   "source": [
    "## 9. Handling Missing Data"
   ]
  },
  {
   "cell_type": "code",
   "execution_count": null,
   "metadata": {},
   "outputs": [],
   "source": [
    "# Create a DataFrame with missing values\n",
    "df_missing = pd.DataFrame({\n",
    "    'A': [1, 2, np.nan, 4],\n",
    "    'B': [5, np.nan, np.nan, 8],\n",
    "    'C': [9, 10, 11, 12]\n",
    "})\n",
    "print(\"DataFrame with missing values:\")\n",
    "print(df_missing)\n",
    "\n",
    "# Check for missing values\n",
    "print(\"\\nMissing values:\")\n",
    "print(df_missing.isnull())\n",
    "\n",
    "# Fill missing values\n",
    "print(\"\\nFill with 0:\")\n",
    "print(df_missing.fillna(0))\n",
    "\n",
    "# Drop rows with missing values\n",
    "print(\"\\nDrop rows with NaN:\")\n",
    "print(df_missing.dropna())"
   ]
  },
  {
   "cell_type": "markdown",
   "metadata": {},
   "source": [
    "## Practice Exercise\n",
    "Try to solve the following using the student_scores.csv:\n",
    "1. Load the student scores dataset\n",
    "2. Calculate the average score for each student across all subjects\n",
    "3. Find the student with the highest average score\n",
    "4. Calculate the class average for each subject\n",
    "5. Filter students who scored above 85 in Math"
   ]
  },
  {
   "cell_type": "code",
   "execution_count": null,
   "metadata": {},
   "outputs": [],
   "source": [
    "# Your solution here\n"
   ]
  }
 ],
 "metadata": {
  "kernelspec": {
   "display_name": "Python 3",
   "language": "python",
   "name": "python3"
  },
  "language_info": {
   "codemirror_mode": {
    "name": "ipython",
    "version": 3
   },
   "file_extension": ".py",
   "mimetype": "text/x-python",
   "name": "python",
   "nbconvert_exporter": "python",
   "pygments_lexer": "ipython3",
   "version": "3.8.0"
  }
 },
 "nbformat": 4,
 "nbformat_minor": 4
}
