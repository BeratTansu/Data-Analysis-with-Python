{
 "cells": [
  {
   "cell_type": "markdown",
   "metadata": {},
   "source": [
    "# Matplotlib Tutorial\n",
    "## Introduction to Data Visualization with Matplotlib\n",
    "Following MOOC.fi Data Analysis with Python course"
   ]
  },
  {
   "cell_type": "markdown",
   "metadata": {},
   "source": [
    "## 1. Importing Libraries"
   ]
  },
  {
   "cell_type": "code",
   "execution_count": null,
   "metadata": {},
   "outputs": [],
   "source": [
    "import matplotlib.pyplot as plt\n",
    "import numpy as np\n",
    "import pandas as pd\n",
    "\n",
    "# For displaying plots in Jupyter\n",
    "%matplotlib inline"
   ]
  },
  {
   "cell_type": "markdown",
   "metadata": {},
   "source": [
    "## 2. Basic Line Plot"
   ]
  },
  {
   "cell_type": "code",
   "execution_count": null,
   "metadata": {},
   "outputs": [],
   "source": [
    "# Create data\n",
    "x = np.linspace(0, 10, 100)\n",
    "y = np.sin(x)\n",
    "\n",
    "# Create plot\n",
    "plt.figure(figsize=(10, 6))\n",
    "plt.plot(x, y)\n",
    "plt.title('Sine Wave')\n",
    "plt.xlabel('x')\n",
    "plt.ylabel('sin(x)')\n",
    "plt.grid(True)\n",
    "plt.show()"
   ]
  },
  {
   "cell_type": "markdown",
   "metadata": {},
   "source": [
    "## 3. Multiple Lines"
   ]
  },
  {
   "cell_type": "code",
   "execution_count": null,
   "metadata": {},
   "outputs": [],
   "source": [
    "x = np.linspace(0, 10, 100)\n",
    "\n",
    "plt.figure(figsize=(10, 6))\n",
    "plt.plot(x, np.sin(x), label='sin(x)', color='blue', linestyle='-')\n",
    "plt.plot(x, np.cos(x), label='cos(x)', color='red', linestyle='--')\n",
    "plt.plot(x, np.tan(x), label='tan(x)', color='green', linestyle='-.')\n",
    "\n",
    "plt.title('Trigonometric Functions')\n",
    "plt.xlabel('x')\n",
    "plt.ylabel('y')\n",
    "plt.legend()\n",
    "plt.grid(True)\n",
    "plt.ylim(-5, 5)\n",
    "plt.show()"
   ]
  },
  {
   "cell_type": "markdown",
   "metadata": {},
   "source": [
    "## 4. Scatter Plot"
   ]
  },
  {
   "cell_type": "code",
   "execution_count": null,
   "metadata": {},
   "outputs": [],
   "source": [
    "# Generate random data\n",
    "np.random.seed(42)\n",
    "x = np.random.randn(100)\n",
    "y = np.random.randn(100)\n",
    "colors = np.random.randn(100)\n",
    "sizes = 1000 * np.random.randn(100) ** 2\n",
    "\n",
    "plt.figure(figsize=(10, 6))\n",
    "plt.scatter(x, y, c=colors, s=sizes, alpha=0.5, cmap='viridis')\n",
    "plt.colorbar()\n",
    "plt.title('Scatter Plot with Random Data')\n",
    "plt.xlabel('X-axis')\n",
    "plt.ylabel('Y-axis')\n",
    "plt.grid(True)\n",
    "plt.show()"
   ]
  },
  {
   "cell_type": "markdown",
   "metadata": {},
   "source": [
    "## 5. Bar Chart"
   ]
  },
  {
   "cell_type": "code",
   "execution_count": null,
   "metadata": {},
   "outputs": [],
   "source": [
    "# Load sales data\n",
    "sales_df = pd.read_csv('../datasets/sales_data.csv')\n",
    "\n",
    "# Group by category\n",
    "category_sales = sales_df.groupby('Category')['Sales'].sum()\n",
    "\n",
    "plt.figure(figsize=(10, 6))\n",
    "category_sales.plot(kind='bar', color=['skyblue', 'coral'])\n",
    "plt.title('Total Sales by Category')\n",
    "plt.xlabel('Category')\n",
    "plt.ylabel('Total Sales ($)')\n",
    "plt.xticks(rotation=45)\n",
    "plt.grid(axis='y', alpha=0.3)\n",
    "plt.tight_layout()\n",
    "plt.show()"
   ]
  },
  {
   "cell_type": "markdown",
   "metadata": {},
   "source": [
    "## 6. Histogram"
   ]
  },
  {
   "cell_type": "code",
   "execution_count": null,
   "metadata": {},
   "outputs": [],
   "source": [
    "# Generate random data from normal distribution\n",
    "np.random.seed(42)\n",
    "data = np.random.randn(1000)\n",
    "\n",
    "plt.figure(figsize=(10, 6))\n",
    "plt.hist(data, bins=30, color='steelblue', edgecolor='black', alpha=0.7)\n",
    "plt.title('Histogram of Normal Distribution')\n",
    "plt.xlabel('Value')\n",
    "plt.ylabel('Frequency')\n",
    "plt.grid(axis='y', alpha=0.3)\n",
    "plt.show()"
   ]
  },
  {
   "cell_type": "markdown",
   "metadata": {},
   "source": [
    "## 7. Subplots"
   ]
  },
  {
   "cell_type": "code",
   "execution_count": null,
   "metadata": {},
   "outputs": [],
   "source": [
    "fig, axes = plt.subplots(2, 2, figsize=(12, 10))\n",
    "\n",
    "x = np.linspace(0, 2*np.pi, 100)\n",
    "\n",
    "# Subplot 1: Sine\n",
    "axes[0, 0].plot(x, np.sin(x), 'b-')\n",
    "axes[0, 0].set_title('sin(x)')\n",
    "axes[0, 0].grid(True)\n",
    "\n",
    "# Subplot 2: Cosine\n",
    "axes[0, 1].plot(x, np.cos(x), 'r-')\n",
    "axes[0, 1].set_title('cos(x)')\n",
    "axes[0, 1].grid(True)\n",
    "\n",
    "# Subplot 3: Exponential\n",
    "axes[1, 0].plot(x, np.exp(x/3), 'g-')\n",
    "axes[1, 0].set_title('exp(x/3)')\n",
    "axes[1, 0].grid(True)\n",
    "\n",
    "# Subplot 4: Logarithm\n",
    "axes[1, 1].plot(x, np.log(x+1), 'm-')\n",
    "axes[1, 1].set_title('log(x+1)')\n",
    "axes[1, 1].grid(True)\n",
    "\n",
    "plt.tight_layout()\n",
    "plt.show()"
   ]
  },
  {
   "cell_type": "markdown",
   "metadata": {},
   "source": [
    "## 8. Box Plot"
   ]
  },
  {
   "cell_type": "code",
   "execution_count": null,
   "metadata": {},
   "outputs": [],
   "source": [
    "# Load student scores\n",
    "students_df = pd.read_csv('../datasets/student_scores.csv')\n",
    "\n",
    "# Create box plot for all subjects\n",
    "subjects = ['Math', 'Science', 'English', 'History']\n",
    "data_to_plot = [students_df[subject] for subject in subjects]\n",
    "\n",
    "plt.figure(figsize=(10, 6))\n",
    "plt.boxplot(data_to_plot, labels=subjects)\n",
    "plt.title('Student Scores Distribution by Subject')\n",
    "plt.ylabel('Score')\n",
    "plt.grid(axis='y', alpha=0.3)\n",
    "plt.show()"
   ]
  },
  {
   "cell_type": "markdown",
   "metadata": {},
   "source": [
    "## 9. Pie Chart"
   ]
  },
  {
   "cell_type": "code",
   "execution_count": null,
   "metadata": {},
   "outputs": [],
   "source": [
    "# Sales by region\n",
    "region_sales = sales_df.groupby('Region')['Sales'].sum()\n",
    "\n",
    "plt.figure(figsize=(10, 8))\n",
    "plt.pie(region_sales, labels=region_sales.index, autopct='%1.1f%%', startangle=90)\n",
    "plt.title('Sales Distribution by Region')\n",
    "plt.axis('equal')\n",
    "plt.show()"
   ]
  },
  {
   "cell_type": "markdown",
   "metadata": {},
   "source": [
    "## 10. Heatmap"
   ]
  },
  {
   "cell_type": "code",
   "execution_count": null,
   "metadata": {},
   "outputs": [],
   "source": [
    "# Create a correlation matrix from student scores\n",
    "correlation_matrix = students_df[subjects].corr()\n",
    "\n",
    "plt.figure(figsize=(10, 8))\n",
    "plt.imshow(correlation_matrix, cmap='coolwarm', aspect='auto', vmin=-1, vmax=1)\n",
    "plt.colorbar(label='Correlation')\n",
    "plt.xticks(range(len(subjects)), subjects, rotation=45)\n",
    "plt.yticks(range(len(subjects)), subjects)\n",
    "plt.title('Correlation Heatmap of Student Scores')\n",
    "\n",
    "# Add correlation values as text\n",
    "for i in range(len(subjects)):\n",
    "    for j in range(len(subjects)):\n",
    "        plt.text(j, i, f'{correlation_matrix.iloc[i, j]:.2f}',\n",
    "                ha='center', va='center', color='black')\n",
    "\n",
    "plt.tight_layout()\n",
    "plt.show()"
   ]
  },
  {
   "cell_type": "markdown",
   "metadata": {},
   "source": [
    "## Practice Exercise\n",
    "Try to solve the following using the weather_data.csv:\n",
    "1. Load the weather dataset\n",
    "2. Create a line plot showing temperature trends for all cities\n",
    "3. Create a bar chart comparing average humidity by city\n",
    "4. Create a scatter plot of Temperature vs Humidity\n",
    "5. Create subplots showing different weather metrics for each city"
   ]
  },
  {
   "cell_type": "code",
   "execution_count": null,
   "metadata": {},
   "outputs": [],
   "source": [
    "# Your solution here\n"
   ]
  }
 ],
 "metadata": {
  "kernelspec": {
   "display_name": "Python 3",
   "language": "python",
   "name": "python3"
  },
  "language_info": {
   "codemirror_mode": {
    "name": "ipython",
    "version": 3
   },
   "file_extension": ".py",
   "mimetype": "text/x-python",
   "name": "python",
   "nbconvert_exporter": "python",
   "pygments_lexer": "ipython3",
   "version": "3.8.0"
  }
 },
 "nbformat": 4,
 "nbformat_minor": 4
}
